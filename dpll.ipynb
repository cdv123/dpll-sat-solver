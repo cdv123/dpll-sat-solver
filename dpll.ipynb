{
 "cells": [
  {
   "cell_type": "code",
   "execution_count": 30,
   "metadata": {},
   "outputs": [
    {
     "name": "stdout",
     "output_type": "stream",
     "text": [
      "False\n",
      "0.023232584819197655\n"
     ]
    }
   ],
   "source": [
    "import numpy as np\n",
    "import copy\n",
    "import itertools\n",
    "import collections\n",
    "import timeit\n",
    "def load_dimacs(file_name):\n",
    "    example = open(file_name, \"r\")\n",
    "    lines = example.readlines()\n",
    "    clause_set = []\n",
    "    count = 0\n",
    "    for i in range(0,len(lines)):\n",
    "        temp = lines[i].split()\n",
    "        if temp[0] == \"p\":\n",
    "            count+=1\n",
    "        elif temp[0] == \"c\":\n",
    "            count+=1\n",
    "        else:\n",
    "            clause_set.append([])\n",
    "            for j in range(0, len(temp)-1):\n",
    "                clause_set[i-count].append(int(temp[j]))\n",
    "    return clause_set\n",
    "\n",
    "def dpll_sat_solve(clause_set,partial_assignment=[]):\n",
    "    watch_literals = {}\n",
    "    #get all unique variables (first flatten list of lists)\n",
    "    vars = list(itertools.chain.from_iterable(clause_set))\n",
    "    vars = [var[0] for var in collections.Counter(vars).most_common()]\n",
    "    vars2 = []\n",
    "    for i in vars:\n",
    "        if -i not in vars2:\n",
    "            vars2.append(i)\n",
    "    literals = list(np.abs(vars))\n",
    "    partial_assignment = {}\n",
    "    units = []\n",
    "    #intialise partial assignments as a dictionary, 0 is unassigned, 1 is set to true, -1, is set to false\n",
    "    partial_assignment = dict.fromkeys(literals,0)\n",
    "    #initialise dictionary of watched literals, key = literal, value = clauses being watched\n",
    "    watch_literals = {key: [] for key in vars}\n",
    "    units = [i[0] for  i in clause_set if len(i) == 1]\n",
    "    if units == []:\n",
    "        for i in range(len(clause_set)):\n",
    "            watch_literals[clause_set[i][0]].append(clause_set[i])\n",
    "            watch_literals[clause_set[i][1]].append(clause_set[i])\n",
    "    else:\n",
    "        for i in range(len(clause_set)):\n",
    "            if len(clause_set[i]) == 1:\n",
    "                units.append(clause_set[i][0])\n",
    "            else:\n",
    "                watch_literals[clause_set[i][0]].append(clause_set[i])\n",
    "                watch_literals[clause_set[i][1]].append(clause_set[i])\n",
    "    # try using dict comprehension\n",
    "    # watch_literals = {key: [clause_set[i][0],clause_set[i][1]] for key in vars}\n",
    "    #wrapper function needed as only initialise watched literals once\n",
    "    partial_assignment = dpll_sat_solve_wrapper(partial_assignment,units,watch_literals,vars2)\n",
    "    #obtain list of assignments from dictionary of assignments\n",
    "    if partial_assignment == False:\n",
    "        return False\n",
    "    return list(partial_assignment.values())\n",
    "    \n",
    "def dpll_sat_solve_wrapper(partial_assignment,units,watch_literals,vars2):\n",
    "    partial_assignment,units,watch_literals = unit_propagate(partial_assignment,units,watch_literals)\n",
    "    if units == False:\n",
    "        return False\n",
    "    assigned = [i for i in partial_assignment.values() if i !=0]\n",
    "    if len(assigned) == len(vars2):\n",
    "        return partial_assignment\n",
    "    for i in vars2:\n",
    "        if partial_assignment[abs(i)] == 0:\n",
    "            var = i\n",
    "            break\n",
    "    partial_assignment2 = partial_assignment.copy()   \n",
    "    units2 = units[:]\n",
    "    partial_assignment,units,watch_literals = set_var(partial_assignment, watch_literals,var,units)\n",
    "    partial_assignment = dpll_sat_solve_wrapper(partial_assignment,units,watch_literals,vars2)\n",
    "    if partial_assignment == False:\n",
    "        partial_assignment = partial_assignment2\n",
    "        units = units2\n",
    "    else:\n",
    "        return partial_assignment\n",
    "    partial_assignment,units,watch_literals = set_var(partial_assignment, watch_literals,-1*var,units)\n",
    "    partial_assignment = dpll_sat_solve_wrapper(partial_assignment,units,watch_literals,vars2)\n",
    "    if partial_assignment == False:\n",
    "        return False\n",
    "    return partial_assignment\n",
    "\n",
    "def unit_propagate(partial_assignment,units,watch_literals):\n",
    "    #set unit clauses to true until no unit clauses are left\n",
    "    while units != []:\n",
    "        partial_assignment,units,watch_literals = set_var(partial_assignment,watch_literals,units[0],units)\n",
    "        if units == False:\n",
    "            return partial_assignment,False,watch_literals\n",
    "        units.pop(0) \n",
    "    return partial_assignment,units,watch_literals\n",
    "\n",
    "def set_var(partial_assignment,watch_literals,var,units):\n",
    "    #if variable has already been assigned, return False as it shows it is trying to be assigned to a different value => need to backtrack\n",
    "    #and partial_assignment[abs(var)]*var != var\n",
    "    if partial_assignment[abs(var)] != 0 and partial_assignment[abs(var)] != var:\n",
    "        return partial_assignment,False,watch_literals\n",
    "    partial_assignment[abs(var)] = var\n",
    "    if -var not in watch_literals:\n",
    "        return partial_assignment,units,watch_literals\n",
    "    clause = 0\n",
    "    #go through watched clauses and try to assign to a\n",
    "    # new watched literal to the clause\n",
    "    while clause < len(watch_literals[-var]):\n",
    "        if not isSat(watch_literals[-var][clause],partial_assignment):\n",
    "            unassigned_literals = [i for i in watch_literals[-var][clause] if partial_assignment[abs(i)]==0]\n",
    "            #if full assignment, check if clause is sat, if it is, d\n",
    "            # do nothing, else, return False\n",
    "            if len(unassigned_literals) == 0:\n",
    "                return partial_assignment,False,watch_literals\n",
    "            else:\n",
    "                not_watches_clause = [i for i in unassigned_literals if watch_literals[-var][clause] not in watch_literals[i]]\n",
    "                watches_clause = [i for i in watch_literals[-var][clause] if watch_literals[-var][clause] in watch_literals[i] and i != -var][0]\n",
    "                #if only 1 unassinged literal, 3 cases, either this is not \n",
    "                # a watch literal, then swap watch literals and add to units and assign to true\n",
    "                #or, if this a watch literal, do not swap, \n",
    "                # but still add to units and assign to true\n",
    "                if len(unassigned_literals) == 1:\n",
    "                    if unassigned_literals[0] != watches_clause:\n",
    "                        watch_literals[unassigned_literals[0]].append(watch_literals[-var][clause])\n",
    "                        watch_literals[-var].remove(watch_literals[-var][clause])\n",
    "                        clause-=1\n",
    "                    units.append(unassigned_literals[0])\n",
    "                    partial_assignment[abs(unassigned_literals[0])] = unassigned_literals[0]\n",
    "                #if more than 1 assigned literals, mutliple cases:\n",
    "                #if both watch literals are false, swap both\n",
    "                #otherwise, swap with watch literals\n",
    "                else:\n",
    "                    if partial_assignment[abs(watches_clause)] != watches_clause and partial_assignment[abs(watches_clause)] !=0:\n",
    "                        watch_literals[unassigned_literals[0]].append(watch_literals[-var][clause])\n",
    "                        watch_literals[watches_clause].remove(watch_literals[-var][clause])\n",
    "                        watch_literals[unassigned_literals[1]].append(watch_literals[-var][clause])\n",
    "                        watch_literals[-var].remove(watch_literals[-var][clause])\n",
    "                        clause-=1\n",
    "                    else:\n",
    "                        watch_literals[not_watches_clause[0]].append(watch_literals[-var][clause])\n",
    "                        watch_literals[-var].remove(watch_literals[-var][clause])\n",
    "                        clause-=1\n",
    "        clause+=1\n",
    "    return partial_assignment,units,watch_literals\n",
    "def isSat(clause,partial_assignment):\n",
    "    for i in clause:\n",
    "        if partial_assignment[abs(i)] == i:\n",
    "            return True\n",
    "    return False\n",
    "clause_set = load_dimacs(\"LNP-6.txt\")\n",
    "print(dpll_sat_solve(clause_set,[]))\n",
    "print(np.mean(timeit.repeat('dpll_sat_solve(clause_set)', globals = globals(), number = 1, repeat = 1)))"
   ]
  },
  {
   "cell_type": "code",
   "execution_count": 90,
   "metadata": {},
   "outputs": [
    {
     "name": "stdout",
     "output_type": "stream",
     "text": [
      "11.7 ms ± 4.92 µs per loop (mean ± std. dev. of 7 runs, 100 loops each)\n"
     ]
    }
   ],
   "source": [
    "%timeit dpll_sat_solve(clause_set,[])"
   ]
  },
  {
   "cell_type": "code",
   "execution_count": 28,
   "metadata": {},
   "outputs": [
    {
     "name": "stdout",
     "output_type": "stream",
     "text": [
      "Requirement already satisfied: line_profiler in /home2/rklb65/.local/lib/python3.8/site-packages (4.0.2)\n",
      "The line_profiler extension is already loaded. To reload it, use:\n",
      "  %reload_ext line_profiler\n"
     ]
    }
   ],
   "source": [
    "!pip install line_profiler\n",
    "%load_ext line_profiler"
   ]
  },
  {
   "cell_type": "markdown",
   "metadata": {},
   "source": [
    "%lprun -f dpll_wiki_wrapper2 dpll_wiki2(clause_set,[])"
   ]
  },
  {
   "cell_type": "markdown",
   "metadata": {},
   "source": [
    "## %lprun -f dpll_wiki_wrapper dpll_wiki2(clause_set,[])"
   ]
  },
  {
   "cell_type": "code",
   "execution_count": 31,
   "metadata": {},
   "outputs": [],
   "source": [
    "%lprun -f dpll_sat_solve dpll_sat_solve(clause_set,[])"
   ]
  }
 ],
 "metadata": {
  "kernelspec": {
   "display_name": "Python 3",
   "language": "python",
   "name": "python3"
  },
  "language_info": {
   "codemirror_mode": {
    "name": "ipython",
    "version": 3
   },
   "file_extension": ".py",
   "mimetype": "text/x-python",
   "name": "python",
   "nbconvert_exporter": "python",
   "pygments_lexer": "ipython3",
   "version": "3.8.10"
  }
 },
 "nbformat": 4,
 "nbformat_minor": 4
}
